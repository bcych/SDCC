{
 "cells": [
  {
   "cell_type": "code",
   "execution_count": 1,
   "metadata": {},
   "outputs": [],
   "source": [
    "import materials"
   ]
  },
  {
   "cell_type": "code",
   "execution_count": 2,
   "metadata": {},
   "outputs": [],
   "source": [
    "TM=materials.TM\n",
    "TMx=TM.composition(0)"
   ]
  },
  {
   "cell_type": "code",
   "execution_count": 3,
   "metadata": {},
   "outputs": [
    {
     "data": {
      "text/plain": [
       "{'k1': -4302.726058488422, 'k2': -4302.726058488422}"
      ]
     },
     "execution_count": 3,
     "metadata": {},
     "output_type": "execute_result"
    }
   ],
   "source": [
    "TMx.anisotropy_constants(20)"
   ]
  },
  {
   "cell_type": "code",
   "execution_count": 4,
   "metadata": {},
   "outputs": [
    {
     "data": {
      "text/plain": [
       "-4302.726058488422"
      ]
     },
     "execution_count": 4,
     "metadata": {},
     "output_type": "execute_result"
    }
   ],
   "source": [
    "comp = 0\n",
    "T = 20\n",
    "Tc = TMx.Tc\n",
    "1e4 * (1.5308e+02*comp**4 - 2.2600e+01*comp**3 - \\\n",
    "4.9734e+01*comp**2 + 1.5822e+01*comp**1 - 5.5522e-01) * \\\n",
    "(1-T/Tc)**7.2652e+00"
   ]
  },
  {
   "cell_type": "code",
   "execution_count": 5,
   "metadata": {},
   "outputs": [
    {
     "data": {
      "text/plain": [
       "-12208.526710515349"
      ]
     },
     "execution_count": 5,
     "metadata": {},
     "output_type": "execute_result"
    }
   ],
   "source": [
    "1e4 * (-3.5725e+01*comp**3 + 5.0920e+01*comp**2 - \\\n",
    "     1.5257e+01*comp**1 - 1.3579e+00) * (1-T/Tc)**(-6.3643e+00*comp**2 + \\\n",
    "         2.3779e+00*comp**1 + 3.0318e+00)"
   ]
  },
  {
   "cell_type": "code",
   "execution_count": 6,
   "metadata": {},
   "outputs": [
    {
     "data": {
      "text/plain": [
       "-4302.726058488422"
      ]
     },
     "execution_count": 6,
     "metadata": {},
     "output_type": "execute_result"
    }
   ],
   "source": [
    "TMx.anisotropy.anisotropyDict['k2'](20,TMx.Tc)"
   ]
  },
  {
   "cell_type": "code",
   "execution_count": null,
   "metadata": {},
   "outputs": [],
   "source": []
  }
 ],
 "metadata": {
  "kernelspec": {
   "display_name": "Python 3.9.18 ('base')",
   "language": "python",
   "name": "python3"
  },
  "language_info": {
   "codemirror_mode": {
    "name": "ipython",
    "version": 3
   },
   "file_extension": ".py",
   "mimetype": "text/x-python",
   "name": "python",
   "nbconvert_exporter": "python",
   "pygments_lexer": "ipython3",
   "version": "3.9.18"
  },
  "orig_nbformat": 4,
  "vscode": {
   "interpreter": {
    "hash": "dd8d58d7aa70a50eb6a2d2543f4e342f7cb087a4109f00375ca46a5fad989a45"
   }
  }
 },
 "nbformat": 4,
 "nbformat_minor": 2
}
