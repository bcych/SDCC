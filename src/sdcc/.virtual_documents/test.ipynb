import materials


TM=materials.TM
TMx=TM.composition(0)


TMx.anisotropy_constants(20)


comp = 0
T = 20
Tc = TMx.Tc
1e4 * (1.5308e+02*comp**4 - 2.2600e+01*comp**3 - \
4.9734e+01*comp**2 + 1.5822e+01*comp**1 - 5.5522e-01) * \
(1-T/Tc)**7.2652e+00


1e4 * (-3.5725e+01*comp**3 + 5.0920e+01*comp**2 - \
     1.5257e+01*comp**1 - 1.3579e+00) * (1-T/Tc)**(-6.3643e+00*comp**2 + \
         2.3779e+00*comp**1 + 3.0318e+00)


TMx.anisotropy.anisotropyDict['k2'](20,TMx.Tc)



