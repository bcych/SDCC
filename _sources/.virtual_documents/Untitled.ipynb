import warnings
warnings.filterwarnings('ignore')








TMx = 0
alignment = 'hard'
PRO = 1.00
OBL = 1.00





from sdcc.plotting import plot_energy_surface
plot_energy_surface(TMx,alignment,PRO,OBL);





plot_energy_surface(TMx,alignment,PRO,OBL,projection = 'stereo');





PRO = 3.00
plot_energy_surface(TMx,alignment,PRO,OBL,projection = 'stereo');





PRO = 1.00
TMx = 55
plot_energy_surface(TMx,alignment,PRO,OBL,projection = 'stereo');





TMx = 0
T = 100
plot_energy_surface(TMx,alignment,PRO,OBL,T = T,projection = 'stereo');





ext_field = [0,90,2e-3] #Dec 0, inc 90 (vertically up), 2 mT field
plot_energy_surface(TMx,alignment,PRO,OBL,ext_field = ext_field,projection = 'stereo');





alignment = 'easy'
plot_energy_surface(TMx,alignment,PRO,OBL,projection = 'stereo');





TMx = 0
alignment = 'easy'
PRO = 1.00
OBL = 1.00





from sdcc.barriers import find_all_barriers
lem_t, lem_p, lem_e, bar_t, bar_p, bar_e = find_all_barriers(TMx, alignment, PRO, OBL)





from sdcc.plotting import plot_minima, plot_barriers
plot_energy_surface(TMx, alignment, PRO, OBL, projection = 'stereo')
plot_minima(lem_t, lem_p, projection = 'stereo')
plot_barriers(bar_t, bar_p, projection = 'stereo')





from sdcc.plotting import energy_matrix_plot
energy_matrix_plot(bar_e)








from sdcc.barriers import GEL
TMx = 0
alignment = 'hard'
PRO = 2.50
OBL = 1.00

#thermParticle = GEL.get_params(TMx,alignment,PRO,OBL)





import pickle
#GEL.to_file('test.gel')
with open('../particles/TM00_PRO_2.50_OBL_1.00_hard.gel', 'rb') as f:
    thermParticle=pickle.load(f)





from sdcc.barriers import HELs
#hystParticle = HELs(TMx, alignment, PRO, OBL, B_max = 0.3)





from sdcc.plotting import plot_pullaiah_curves
sizes = [20] # Pullaiah curve size
i = 0 # state 0
j = 1 # state 1

plot_pullaiah_curves(thermParticle, sizes, 0, 1, color='r')





sizes = [17,18,19,20,21,22,23,24,25,26,28,30,32,35,38,41,45,50,60]
plot_pullaiah_curves(thermParticle, sizes, 0, 1, color='k')





from sdcc.simulation import relaxation_time
B_dir = [1,0,0] #Field direction - along x here
B_str = 40 #Field strength - 40uT
relax_routine = relaxation_time(gel_test, B_dir,B_str)





relax_routine





from sdcc.treatment import coe_experiment
from sdcc.barriers import uniaxial_critical_size

B_anc = 30 #ancient field strength
B_ancdir = [0,0,1] #ancient field direction
temp_steps = [100,200,300,350,400,450,500,520,540,560,579] #Temperature steps for coe experiment

coe_routine = coe_experiment(temp_steps,B_anc,B_str,B_ancdir,B_dir)





from sdcc.plotting import plot_routine
plot_routine(coe_routine)








import pickle
from sdcc.simulation import relaxation_time

# Read in GEL file for particle
with open('../particles/TM00_PRO_2.50_OBL_1.00_hard.gel', 'rb') as f:
    thermParticle=pickle.load(f)

# Set up treatment routine
B_dir = [1,0,0] #Field direction - along x here
B_str = 40 #Field strength - 40uT
relax_routine = relaxation_time(gel_test, B_dir,B_str)

# Set up particle size
size = 21 #size in nm





from sdcc.simulation import mono_dispersion
starting_prob = [1/2, 1/2] 
moments, probabilities = mono_dispersion(starting_prob, 
                                         size, 
                                         relax_routine, 
                                         thermParticle,
                                         n_dirs = 30)





from sdcc.plotting import plot_relax_experiment
plot_relax_experiment(moments, relax_routine)





import numpy as np
import matplotlib.pyplot as plt
%matplotlib inline 

sizes = np.arange(18,22.25,0.25)

weights = np.exp(-(sizes - 20)**2/2) #Gaussian "weight"
weights = weights/np.sum(fracs)*1e6 #Relative number of grains at each size
plt.bar(sizes,weights,color='skyblue',width=0.225);
plt.ylabel('Number of particles')
plt.xlabel('Size (nm)');





m_list = []
for size in sizes:
    print('\n Current Size:',size)
    moments,probs = mono_dispersion(starting_prob,
                                    size, 
                                    relax_routine, 
                                    thermParticle, 
                                    n_dirs=30)
    m_list.append(moments)





weighted_m_list = np.array(m_list).T * weights
m_sum = np.sum(weighted_m_list, axis = 1)





plot_relax_experiment(m_sum, relax_routine)








Blocking_Ts = [360,385,410,435,460,485,510,535,555]

sizes = []
for T in Blocking_Ts:
    K = gel_test.get_params(T)['bar_e'][0,1]
    size = uniaxial_critical_size(K,T)
    sizes.append(size)





coeffs = np.exp(-(np.array(Blocking_Ts) - 460)**2 / (2*50**2))
coeffs /= sum(coeffs)
Zs_sum = np.flip(Zs_tot,axis=1) * coeffs 
Zs_sum = np.sum(Zs_sum,axis=1)
Is_sum = np.flip(Is_tot,axis=1) * coeffs
Is_sum = np.sum(Is_sum,axis=1)





vs_list=[]
for d in ds:
    print(d)
    start_p = [1/2,1/2]
    vs,ps = mono_dispersion(start_p,d,coe,gel_test,n_dirs=30)
    vs_list_new=[vs]
    vs_list = vs_list_new + vs_list





#Make this a function!

Zs_tot = np.empty((len(coe[3::6])+1,len(ds)))
Is_tot = np.empty((len(coe[6::6])+1,len(ds)))
i = 0
for vs in vs_list:
    TRM = vs[0][-1]
    Zcools = vs[3::6]
    Zs = [TRM]
    for Z in Zcools:
        Zs.append(Z[-1])
    Is = [TRM]
    Icools = vs[6::6]
    for I in Icools:
        Is.append(I[-1])
    Is = np.array(Is)
    Zs = np.array(Zs)

    Is = Is - Zs
    Is = np.linalg.norm(Is,axis=1)
    Zs = np.linalg.norm(Zs,axis=1)
    Zs_tot[:,i] = Zs
    Is_tot[:,i] = Is
    i += 1
