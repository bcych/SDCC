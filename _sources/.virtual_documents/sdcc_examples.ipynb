import warnings
warnings.filterwarnings('ignore')








TMx = 0
alignment = 'hard'
PRO = 1.00
OBL = 1.00





from sdcc.plotting import plot_energy_surface
plot_energy_surface(TMx,alignment,PRO,OBL);





plot_energy_surface(TMx,alignment,PRO,OBL,projection = 'stereo');





PRO = 3.00
plot_energy_surface(TMx,alignment,PRO,OBL,projection = 'stereo');





PRO = 1.00
TMx = 55
plot_energy_surface(TMx,alignment,PRO,OBL,projection = 'stereo');





TMx = 0
T = 100
plot_energy_surface(TMx,alignment,PRO,OBL,T = T,projection = 'stereo');





ext_field = [0,90,2e-3] #Dec 0, inc 90 (vertically up), 2 mT field
plot_energy_surface(TMx,alignment,PRO,OBL,ext_field = ext_field,projection = 'stereo');





alignment = 'easy'
plot_energy_surface(TMx,alignment,PRO,OBL,projection = 'stereo');





TMx = 0
alignment = 'easy'
PRO = 1.00
OBL = 1.00





from sdcc.barriers import find_all_barriers
lem_t, lem_p, lem_e, bar_t, bar_p, bar_e = find_all_barriers(TMx, alignment, PRO, OBL)





from sdcc.plotting import plot_minima, plot_barriers
plot_energy_surface(TMx, alignment, PRO, OBL, projection = 'stereo')
plot_minima(lem_t, lem_p, projection = 'stereo')
plot_barriers(bar_t, bar_p, projection = 'stereo')





from sdcc.plotting import energy_matrix_plot
energy_matrix_plot(bar_e)








from sdcc.barriers import GEL
TMx = 0
alignment = 'hard'
PRO = 2.50
OBL = 1.00

#thermParticle = GEL.get_params(TMx,alignment,PRO,OBL)





import pickle
#GEL.to_file('test.gel')
with open('../particles/TM00_PRO_2.50_OBL_1.00_hard.gel', 'rb') as f:
    thermParticle=pickle.load(f)





from sdcc.barriers import HELs
#hystParticle = HELs(TMx, alignment, PRO, OBL, B_max = 0.3)





from sdcc.plotting import plot_pullaiah_curves
sizes = [20] # Pullaiah curve size
i = 0 # state 0
j = 1 # state 1

plot_pullaiah_curves(thermParticle, sizes, 0, 1, color='r')





sizes = [17,18,19,20,21,22,23,24,25,26,28,30,32,35,38,41,45,50,60]
plot_pullaiah_curves(thermParticle, sizes, 0, 1, color='k')





from sdcc.simulation import relaxation_time
B_dir = [1,0,0] #Field direction - along x here
B_str = 40 #Field strength - 40uT
relax_routine = relaxation_time(gel_test, B_dir,B_str)





relax_routine





from sdcc.treatment import coe_experiment
from sdcc.barriers import uniaxial_critical_size

B_anc = 30 #ancient field strength
B_ancdir = [0,0,1] #ancient field direction
temp_steps = [100,200,300,350,400,450,500,520,540,560,579] #Temperature steps for coe experiment

coe_routine = coe_experiment(temp_steps,B_anc,B_str,B_ancdir,B_dir)





from sdcc.plotting import plot_routine
plot_routine(coe_routine)








import pickle
from sdcc.simulation import relaxation_time

# Read in GEL file for particle
with open('../particles/TM00_PRO_2.50_OBL_1.00_hard.gel', 'rb') as f:
    thermParticle=pickle.load(f)

# Set up treatment routine
B_dir = [1,0,0] #Field direction - along x here
B_str = 40 #Field strength - 40uT
relax_routine = relaxation_time(thermParticle, B_dir,B_str)

# Set up particle size
size = 21 #size in nm





from sdcc.simulation import mono_dispersion
starting_prob = [1/2, 1/2] 
moments, probabilities = mono_dispersion(starting_prob, 
                                         size, 
                                         relax_routine, 
                                         thermParticle,
                                         n_dirs = 30)





from sdcc.plotting import plot_relax_experiment
plot_relax_experiment(moments, relax_routine)





import numpy as np
import matplotlib.pyplot as plt
%matplotlib inline 

sizes = np.arange(18,22.25,0.25)

weights = np.exp(-(sizes - 20)**2/2) #Gaussian "weight"
weights = weights/np.sum(weights)*1e6 #Relative number of grains at each size
plt.bar(sizes,weights,color='skyblue',width=0.225);
plt.ylabel('Number of particles')
plt.xlabel('Size (nm)');





m_list = []
for size in sizes:
    print('\n Current Size:',size)
    moments,probs = mono_dispersion(starting_prob,
                                    size, 
                                    relax_routine, 
                                    thermParticle, 
                                    n_dirs=30)
    m_list.append(moments)





weighted_m_list = np.array(m_list).T * weights
m_sum = np.sum(weighted_m_list, axis = 1)





plot_relax_experiment(m_sum, relax_routine)








#from sdcc.analysis import get_critical_sizes
Blocking_Ts = [360,385,410,435,460,485,510,535,555]
sizes = get_critical_sizes(thermParticle, Blocking_Ts)

#Gaussian Distribution 
weights = np.exp(-(np.array(Blocking_Ts) - 460)**2 / (2*50**2))
weights /= sum(weights)

#Make bar plot
plt.bar(Blocking_Ts,coeffs,width=15,color='skyblue');
plt.xlabel('Blocking Temperature ($^\circ$C)')
plt.ylabel('Fraction');

#Plot sizes on bar plot
for i, size in enumerate(sizes):
    if weights[i]>0.04:
        plt.text(Blocking_Ts[i],weights[i]-0.002,'%2.1f'%size+' nm',ha='center',va='top',rotation=90)
    else:
        plt.text(Blocking_Ts[i],weights[i]+0.002,'%2.1f'%size+' nm',ha='center',va='bottom',rotation=90)






m_list = []
for size in sizes:
    print('\n Current Size:',size)
    moments,probs = mono_dispersion(starting_prob,
                                    size, 
                                    coe_routine, 
                                    thermParticle, 
                                    n_dirs=30)
    m_list.append(moments)





from sdcc.plotting import plot_arai
from sdcc.analysis import process_thellier_data
Zs,Is,Zs_mag,Is_mag = process_thellier_data(m_list,coe_routine,weights)
plot_arai(Zs_mag, Is_mag, B_anc, B_str)





with open('../examples/test_new.hels', 'rb') as f:
    hystParticle=pickle.load(f)





from sdcc.treatment import hyst_loop
from sdcc.simulation import hyst_mono_dispersion
hyst_routine = hyst_loop(B_max = 0.3)

size = 20
size_2 = 16

moments_sd, ps_sd = hyst_mono_dispersion(size, hyst_routine, hystParticle)
moments_sp, ps_sp = hyst_mono_dispersion(size_2, hyst_routine, hystParticle)





from sdcc.analysis import analyze_hyst_data
fig,ax = plt.subplots(1,2,figsize=(12,4))
Mrs, Ms, Bc = analyze_hyst_data(moments_sd, hyst_routine, size, hystParticle, plot=True, ax=ax[0])
Mrs2, Ms2, Bc2 = analyze_hyst_data(moments_sp, hyst_routine, size_2, hystParticle, plot=True, ax=ax[1])
plt.tight_layout()








result_to_file(hystParticle, 16, hyst_routine, moments_sp, ps_sp, file_ext = 'hyst', directory = '../results/')





with open('../results/TM00_PRO_2.50_OBL_1.00_16.0nm.hyst', 'rb') as f:
    result=pickle.load(f)
print(result.keys())
print(result['particle'])
print(result['routine'])
print(result['result'].keys())
